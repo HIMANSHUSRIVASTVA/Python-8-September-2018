{
 "cells": [
  {
   "cell_type": "markdown",
   "metadata": {},
   "source": [
    "# Ex2 - Filtering and Sorting Data"
   ]
  },
  {
   "cell_type": "markdown",
   "metadata": {},
   "source": [
    "This time we are going to pull data directly from the internet.\n",
    "\n",
    "### Step 1. Import the necessary libraries"
   ]
  },
  {
   "cell_type": "code",
   "execution_count": 1,
   "metadata": {},
   "outputs": [],
   "source": [
    "import pandas as pd"
   ]
  },
  {
   "cell_type": "markdown",
   "metadata": {},
   "source": [
    "### Step 2. Import the dataset from this [address](https://raw.githubusercontent.com/jokecamp/FootballData/master/UEFA_European_Championship/Euro%202012/Euro%202012%20stats%20TEAM.csv). "
   ]
  },
  {
   "cell_type": "markdown",
   "metadata": {},
   "source": [
    "### Step 3. Assign it to a variable called euro12."
   ]
  },
  {
   "cell_type": "code",
   "execution_count": 2,
   "metadata": {},
   "outputs": [],
   "source": [
    "data = pd.read_csv('https://raw.githubusercontent.com/jokecamp/FootballData/master/UEFA_European_Championship/Euro%202012/Euro%202012%20stats%20TEAM.csv')"
   ]
  },
  {
   "cell_type": "markdown",
   "metadata": {},
   "source": [
    "### Step 4. Select only the Goal column."
   ]
  },
  {
   "cell_type": "code",
   "execution_count": 3,
   "metadata": {},
   "outputs": [
    {
     "name": "stdout",
     "output_type": "stream",
     "text": [
      "<class 'pandas.core.frame.DataFrame'>\n",
      "RangeIndex: 16 entries, 0 to 15\n",
      "Data columns (total 35 columns):\n",
      "Team                          16 non-null object\n",
      "Goals                         16 non-null int64\n",
      "Shots on target               16 non-null int64\n",
      "Shots off target              16 non-null int64\n",
      "Shooting Accuracy             16 non-null object\n",
      "% Goals-to-shots              16 non-null object\n",
      "Total shots (inc. Blocked)    16 non-null int64\n",
      "Hit Woodwork                  16 non-null int64\n",
      "Penalty goals                 16 non-null int64\n",
      "Penalties not scored          16 non-null int64\n",
      "Headed goals                  16 non-null int64\n",
      "Passes                        16 non-null int64\n",
      "Passes completed              16 non-null int64\n",
      "Passing Accuracy              16 non-null object\n",
      "Touches                       16 non-null int64\n",
      "Crosses                       16 non-null int64\n",
      "Dribbles                      16 non-null int64\n",
      "Corners Taken                 16 non-null int64\n",
      "Tackles                       16 non-null int64\n",
      "Clearances                    16 non-null int64\n",
      "Interceptions                 16 non-null int64\n",
      "Clearances off line           15 non-null float64\n",
      "Clean Sheets                  16 non-null int64\n",
      "Blocks                        16 non-null int64\n",
      "Goals conceded                16 non-null int64\n",
      "Saves made                    16 non-null int64\n",
      "Saves-to-shots ratio          16 non-null object\n",
      "Fouls Won                     16 non-null int64\n",
      "Fouls Conceded                16 non-null int64\n",
      "Offsides                      16 non-null int64\n",
      "Yellow Cards                  16 non-null int64\n",
      "Red Cards                     16 non-null int64\n",
      "Subs on                       16 non-null int64\n",
      "Subs off                      16 non-null int64\n",
      "Players Used                  16 non-null int64\n",
      "dtypes: float64(1), int64(29), object(5)\n",
      "memory usage: 4.5+ KB\n",
      "None\n",
      "0      4\n",
      "1      4\n",
      "2      4\n",
      "3      5\n",
      "4      3\n",
      "5     10\n",
      "6      5\n",
      "7      6\n",
      "8      2\n",
      "9      2\n",
      "10     6\n",
      "11     1\n",
      "12     5\n",
      "13    12\n",
      "14     5\n",
      "15     2\n",
      "Name: Goals, dtype: int64\n"
     ]
    }
   ],
   "source": [
    "print(data.info())\n",
    "print(data['Goals'])"
   ]
  },
  {
   "cell_type": "markdown",
   "metadata": {},
   "source": [
    "### Step 5. How many team participated in the Euro2012?"
   ]
  },
  {
   "cell_type": "code",
   "execution_count": 5,
   "metadata": {},
   "outputs": [
    {
     "name": "stdout",
     "output_type": "stream",
     "text": [
      "Italy                  1\n",
      "Czech Republic         1\n",
      "Greece                 1\n",
      "Croatia                1\n",
      "Sweden                 1\n",
      "Poland                 1\n",
      "Portugal               1\n",
      "England                1\n",
      "Republic of Ireland    1\n",
      "Netherlands            1\n",
      "Spain                  1\n",
      "Russia                 1\n",
      "France                 1\n",
      "Ukraine                1\n",
      "Germany                1\n",
      "Denmark                1\n",
      "Name: Team, dtype: int64\n"
     ]
    }
   ],
   "source": [
    "print(data.Team.value_counts())"
   ]
  },
  {
   "cell_type": "markdown",
   "metadata": {},
   "source": [
    "### Step 6. What is the number of columns in the dataset?"
   ]
  },
  {
   "cell_type": "code",
   "execution_count": 8,
   "metadata": {},
   "outputs": [
    {
     "name": "stdout",
     "output_type": "stream",
     "text": [
      "35\n"
     ]
    }
   ],
   "source": [
    "print(data.columns.size)"
   ]
  },
  {
   "cell_type": "markdown",
   "metadata": {},
   "source": [
    "### Step 7. View only the columns Team, Yellow Cards and Red Cards and assign them to a dataframe called discipline"
   ]
  },
  {
   "cell_type": "code",
   "execution_count": 9,
   "metadata": {},
   "outputs": [],
   "source": [
    "discipline = data[['Team', 'Yellow Cards', 'Red Cards']]"
   ]
  },
  {
   "cell_type": "markdown",
   "metadata": {},
   "source": [
    "### Step 8. Sort the teams by Red Cards, then to Yellow Cards"
   ]
  },
  {
   "cell_type": "code",
   "execution_count": 11,
   "metadata": {
    "scrolled": true
   },
   "outputs": [
    {
     "name": "stdout",
     "output_type": "stream",
     "text": [
      "                   Team  Yellow Cards  Red Cards\n",
      "11  Republic of Ireland             6          1\n",
      "9                Poland             7          1\n",
      "6                Greece             9          1\n",
      "2               Denmark             4          0\n",
      "5               Germany             4          0\n",
      "3               England             5          0\n",
      "8           Netherlands             5          0\n",
      "15              Ukraine             5          0\n",
      "4                France             6          0\n",
      "12               Russia             6          0\n",
      "1        Czech Republic             7          0\n",
      "14               Sweden             7          0\n",
      "0               Croatia             9          0\n",
      "13                Spain            11          0\n",
      "10             Portugal            12          0\n",
      "7                 Italy            16          0\n"
     ]
    }
   ],
   "source": [
    "sorted_data = discipline.sort_values(['Red Cards', 'Yellow Cards'], ascending=[False, True])\n",
    "print(sorted_data)"
   ]
  },
  {
   "cell_type": "markdown",
   "metadata": {},
   "source": [
    "### Step 9. Calculate the mean Yellow Cards given per Team"
   ]
  },
  {
   "cell_type": "code",
   "execution_count": 12,
   "metadata": {},
   "outputs": [
    {
     "name": "stdout",
     "output_type": "stream",
     "text": [
      "7.4375\n"
     ]
    }
   ],
   "source": [
    "print(data['Yellow Cards'].mean())"
   ]
  },
  {
   "cell_type": "markdown",
   "metadata": {},
   "source": [
    "### Step 10. Filter teams that scored more than 6 goals"
   ]
  },
  {
   "cell_type": "code",
   "execution_count": 13,
   "metadata": {},
   "outputs": [
    {
     "name": "stdout",
     "output_type": "stream",
     "text": [
      "       Team  Goals  Shots on target  Shots off target Shooting Accuracy  \\\n",
      "5   Germany     10               32                32             47.8%   \n",
      "13    Spain     12               42                33             55.9%   \n",
      "\n",
      "   % Goals-to-shots  Total shots (inc. Blocked)  Hit Woodwork  Penalty goals  \\\n",
      "5             15.6%                          80             2              1   \n",
      "13            16.0%                         100             0              1   \n",
      "\n",
      "    Penalties not scored      ...       Saves made  Saves-to-shots ratio  \\\n",
      "5                      0      ...               10                 62.6%   \n",
      "13                     0      ...               15                 93.8%   \n",
      "\n",
      "    Fouls Won Fouls Conceded  Offsides  Yellow Cards  Red Cards  Subs on  \\\n",
      "5          63             49        12             4          0       15   \n",
      "13        102             83        19            11          0       17   \n",
      "\n",
      "    Subs off  Players Used  \n",
      "5         15            17  \n",
      "13        17            18  \n",
      "\n",
      "[2 rows x 35 columns]\n"
     ]
    }
   ],
   "source": [
    "print(data[data['Goals']>6])"
   ]
  },
  {
   "cell_type": "markdown",
   "metadata": {},
   "source": [
    "### Step 11. Select the teams that start with G"
   ]
  },
  {
   "cell_type": "code",
   "execution_count": 15,
   "metadata": {},
   "outputs": [
    {
     "name": "stdout",
     "output_type": "stream",
     "text": [
      "      Team  Goals  Shots on target  Shots off target Shooting Accuracy  \\\n",
      "5  Germany     10               32                32             47.8%   \n",
      "6   Greece      5                8                18             30.7%   \n",
      "\n",
      "  % Goals-to-shots  Total shots (inc. Blocked)  Hit Woodwork  Penalty goals  \\\n",
      "5            15.6%                          80             2              1   \n",
      "6            19.2%                          32             1              1   \n",
      "\n",
      "   Penalties not scored      ...       Saves made  Saves-to-shots ratio  \\\n",
      "5                     0      ...               10                 62.6%   \n",
      "6                     1      ...               13                 65.1%   \n",
      "\n",
      "   Fouls Won Fouls Conceded  Offsides  Yellow Cards  Red Cards  Subs on  \\\n",
      "5         63             49        12             4          0       15   \n",
      "6         67             48        12             9          1       12   \n",
      "\n",
      "   Subs off  Players Used  \n",
      "5        15            17  \n",
      "6        12            20  \n",
      "\n",
      "[2 rows x 35 columns]\n"
     ]
    }
   ],
   "source": [
    "print(data[data.Team.str.startswith('G')])"
   ]
  },
  {
   "cell_type": "markdown",
   "metadata": {},
   "source": [
    "### Step 12. Select the first 7 columns"
   ]
  },
  {
   "cell_type": "code",
   "execution_count": 17,
   "metadata": {},
   "outputs": [
    {
     "name": "stdout",
     "output_type": "stream",
     "text": [
      "                   Team  Goals  Shots on target  Shots off target  \\\n",
      "0               Croatia      4               13                12   \n",
      "1        Czech Republic      4               13                18   \n",
      "2               Denmark      4               10                10   \n",
      "3               England      5               11                18   \n",
      "4                France      3               22                24   \n",
      "5               Germany     10               32                32   \n",
      "6                Greece      5                8                18   \n",
      "7                 Italy      6               34                45   \n",
      "8           Netherlands      2               12                36   \n",
      "9                Poland      2               15                23   \n",
      "10             Portugal      6               22                42   \n",
      "11  Republic of Ireland      1                7                12   \n",
      "12               Russia      5                9                31   \n",
      "13                Spain     12               42                33   \n",
      "14               Sweden      5               17                19   \n",
      "15              Ukraine      2                7                26   \n",
      "\n",
      "   Shooting Accuracy % Goals-to-shots  Total shots (inc. Blocked)  \n",
      "0              51.9%            16.0%                          32  \n",
      "1              41.9%            12.9%                          39  \n",
      "2              50.0%            20.0%                          27  \n",
      "3              50.0%            17.2%                          40  \n",
      "4              37.9%             6.5%                          65  \n",
      "5              47.8%            15.6%                          80  \n",
      "6              30.7%            19.2%                          32  \n",
      "7              43.0%             7.5%                         110  \n",
      "8              25.0%             4.1%                          60  \n",
      "9              39.4%             5.2%                          48  \n",
      "10             34.3%             9.3%                          82  \n",
      "11             36.8%             5.2%                          28  \n",
      "12             22.5%            12.5%                          59  \n",
      "13             55.9%            16.0%                         100  \n",
      "14             47.2%            13.8%                          39  \n",
      "15             21.2%             6.0%                          38  \n"
     ]
    }
   ],
   "source": [
    "print(data.iloc[:,:7])"
   ]
  },
  {
   "cell_type": "markdown",
   "metadata": {},
   "source": [
    "### Step 13. Select all columns except the last 3."
   ]
  },
  {
   "cell_type": "code",
   "execution_count": 19,
   "metadata": {},
   "outputs": [
    {
     "name": "stdout",
     "output_type": "stream",
     "text": [
      "                   Team  Goals  Shots on target  Shots off target  \\\n",
      "0               Croatia      4               13                12   \n",
      "1        Czech Republic      4               13                18   \n",
      "2               Denmark      4               10                10   \n",
      "3               England      5               11                18   \n",
      "4                France      3               22                24   \n",
      "5               Germany     10               32                32   \n",
      "6                Greece      5                8                18   \n",
      "7                 Italy      6               34                45   \n",
      "8           Netherlands      2               12                36   \n",
      "9                Poland      2               15                23   \n",
      "10             Portugal      6               22                42   \n",
      "11  Republic of Ireland      1                7                12   \n",
      "12               Russia      5                9                31   \n",
      "13                Spain     12               42                33   \n",
      "14               Sweden      5               17                19   \n",
      "15              Ukraine      2                7                26   \n",
      "\n",
      "   Shooting Accuracy % Goals-to-shots  Total shots (inc. Blocked)  \\\n",
      "0              51.9%            16.0%                          32   \n",
      "1              41.9%            12.9%                          39   \n",
      "2              50.0%            20.0%                          27   \n",
      "3              50.0%            17.2%                          40   \n",
      "4              37.9%             6.5%                          65   \n",
      "5              47.8%            15.6%                          80   \n",
      "6              30.7%            19.2%                          32   \n",
      "7              43.0%             7.5%                         110   \n",
      "8              25.0%             4.1%                          60   \n",
      "9              39.4%             5.2%                          48   \n",
      "10             34.3%             9.3%                          82   \n",
      "11             36.8%             5.2%                          28   \n",
      "12             22.5%            12.5%                          59   \n",
      "13             55.9%            16.0%                         100   \n",
      "14             47.2%            13.8%                          39   \n",
      "15             21.2%             6.0%                          38   \n",
      "\n",
      "    Hit Woodwork  Penalty goals  Penalties not scored    ...      \\\n",
      "0              0              0                     0    ...       \n",
      "1              0              0                     0    ...       \n",
      "2              1              0                     0    ...       \n",
      "3              0              0                     0    ...       \n",
      "4              1              0                     0    ...       \n",
      "5              2              1                     0    ...       \n",
      "6              1              1                     1    ...       \n",
      "7              2              0                     0    ...       \n",
      "8              2              0                     0    ...       \n",
      "9              0              0                     0    ...       \n",
      "10             6              0                     0    ...       \n",
      "11             0              0                     0    ...       \n",
      "12             2              0                     0    ...       \n",
      "13             0              1                     0    ...       \n",
      "14             3              0                     0    ...       \n",
      "15             0              0                     0    ...       \n",
      "\n",
      "    Clean Sheets  Blocks  Goals conceded Saves made  Saves-to-shots ratio  \\\n",
      "0              0      10               3         13                 81.3%   \n",
      "1              1      10               6          9                 60.1%   \n",
      "2              1      10               5         10                 66.7%   \n",
      "3              2      29               3         22                 88.1%   \n",
      "4              1       7               5          6                 54.6%   \n",
      "5              1      11               6         10                 62.6%   \n",
      "6              1      23               7         13                 65.1%   \n",
      "7              2      18               7         20                 74.1%   \n",
      "8              0       9               5         12                 70.6%   \n",
      "9              0       8               3          6                 66.7%   \n",
      "10             2      11               4         10                 71.5%   \n",
      "11             0      23               9         17                 65.4%   \n",
      "12             0       8               3         10                 77.0%   \n",
      "13             5       8               1         15                 93.8%   \n",
      "14             1      12               5          8                 61.6%   \n",
      "15             0       4               4         13                 76.5%   \n",
      "\n",
      "    Fouls Won  Fouls Conceded  Offsides  Yellow Cards  Red Cards  \n",
      "0          41              62         2             9          0  \n",
      "1          53              73         8             7          0  \n",
      "2          25              38         8             4          0  \n",
      "3          43              45         6             5          0  \n",
      "4          36              51         5             6          0  \n",
      "5          63              49        12             4          0  \n",
      "6          67              48        12             9          1  \n",
      "7         101              89        16            16          0  \n",
      "8          35              30         3             5          0  \n",
      "9          48              56         3             7          1  \n",
      "10         73              90        10            12          0  \n",
      "11         43              51        11             6          1  \n",
      "12         34              43         4             6          0  \n",
      "13        102              83        19            11          0  \n",
      "14         35              51         7             7          0  \n",
      "15         48              31         4             5          0  \n",
      "\n",
      "[16 rows x 32 columns]\n"
     ]
    }
   ],
   "source": [
    "print(data.iloc[:,:-3])"
   ]
  },
  {
   "cell_type": "markdown",
   "metadata": {},
   "source": [
    "### Step 14. Present only the Shooting Accuracy from England, Italy and Russia"
   ]
  },
  {
   "cell_type": "code",
   "execution_count": null,
   "metadata": {},
   "outputs": [],
   "source": []
  }
 ],
 "metadata": {
  "kernelspec": {
   "display_name": "Python 3",
   "language": "python",
   "name": "python3"
  },
  "language_info": {
   "codemirror_mode": {
    "name": "ipython",
    "version": 3
   },
   "file_extension": ".py",
   "mimetype": "text/x-python",
   "name": "python",
   "nbconvert_exporter": "python",
   "pygments_lexer": "ipython3",
   "version": "3.6.6"
  }
 },
 "nbformat": 4,
 "nbformat_minor": 1
}
